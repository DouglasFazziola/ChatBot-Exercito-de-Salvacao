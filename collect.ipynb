{
 "cells": [
  {
   "cell_type": "code",
   "execution_count": 2,
   "metadata": {},
   "outputs": [],
   "source": [
    "import requests\n",
    "import time\n",
    "import os\n",
    "from bs4 import BeautifulSoup\n",
    "from urllib.parse import urljoin\n",
    "from urllib.robotparser import RobotFileParser\n",
    "from langchain_community.embeddings.edenai import EdenAiEmbeddings\n",
    "from dotenv import load_dotenv\n",
    "from langchain.text_splitter import RecursiveCharacterTextSplitter\n",
    "from langchain.document_loaders import DirectoryLoader\n",
    "from langchain.vectorstores import Chroma"
   ]
  },
  {
   "cell_type": "code",
   "execution_count": 6,
   "metadata": {},
   "outputs": [
    {
     "name": "stdout",
     "output_type": "stream",
     "text": [
      "Visiting https://kmdevantagens.com.br/...\n",
      "Scraping https://kmdevantagens.com.br/...\n",
      "Visiting https://kmdevantagens.com.br/ganhe-km...\n",
      "Scraping https://kmdevantagens.com.br/ganhe-km...\n",
      "Visiting https://kmdevantagens.com.br/regulamento...\n",
      "Scraping https://kmdevantagens.com.br/regulamento...\n",
      "Visiting https://kmdevantagens.com.br/fale-conosco...\n",
      "Scraping https://kmdevantagens.com.br/fale-conosco...\n",
      "Visiting https://kmdevantagens.com.br/promocoes...\n",
      "Scraping https://kmdevantagens.com.br/promocoes...\n",
      "Visiting https://kmdevantagens.com.br/abastece-ai...\n",
      "Scraping https://kmdevantagens.com.br/abastece-ai...\n",
      "Visiting https://kmdevantagens.com.br/categorias...\n",
      "Scraping https://kmdevantagens.com.br/categorias...\n",
      "Visiting https://kmdevantagens.com.br/ajuda...\n",
      "Scraping https://kmdevantagens.com.br/ajuda...\n",
      "Visiting https://kmdevantagens.com.br/institucional...\n",
      "Scraping https://kmdevantagens.com.br/institucional...\n",
      "Visiting https://kmdevantagens.com.br/categoria/140...\n",
      "Scraping https://kmdevantagens.com.br/categoria/140...\n",
      "Visiting https://kmdevantagens.com.br/caminhoneiro...\n",
      "Scraping https://kmdevantagens.com.br/caminhoneiro...\n",
      "Visiting https://kmdevantagens.com.br/como-funciona...\n",
      "Scraping https://kmdevantagens.com.br/como-funciona...\n",
      "Visiting https://kmdevantagens.com.br/categoria/146...\n",
      "Scraping https://kmdevantagens.com.br/categoria/146...\n",
      "Visiting https://kmdevantagens.com.br/...\n",
      "Scraping https://kmdevantagens.com.br/...\n",
      "Visiting https://kmdevantagens.com.br/categoria/11...\n",
      "Scraping https://kmdevantagens.com.br/categoria/11...\n",
      "Visiting https://kmdevantagens.com.br/#perguntas-frequentes...\n",
      "Scraping https://kmdevantagens.com.br/#perguntas-frequentes...\n",
      "Visiting https://kmdevantagens.com.br/regulamento...\n",
      "Scraping https://kmdevantagens.com.br/regulamento...\n",
      "Visiting https://kmdevantagens.com.br/fale-conosco...\n",
      "Scraping https://kmdevantagens.com.br/fale-conosco...\n",
      "Visiting https://kmdevantagens.com.br/categoria/144...\n",
      "Scraping https://kmdevantagens.com.br/categoria/144...\n",
      "Visiting https://kmdevantagens.com.br/categoria/141...\n",
      "Scraping https://kmdevantagens.com.br/categoria/141...\n",
      "Visiting https://kmdevantagens.com.br/promocoes...\n",
      "Scraping https://kmdevantagens.com.br/promocoes...\n",
      "Visiting https://kmdevantagens.com.br/categoria/10...\n",
      "Scraping https://kmdevantagens.com.br/categoria/10...\n",
      "Visiting https://kmdevantagens.com.br/categorias...\n",
      "Scraping https://kmdevantagens.com.br/categorias...\n",
      "Visiting https://kmdevantagens.com.br/institucional...\n",
      "Scraping https://kmdevantagens.com.br/institucional...\n",
      "Visiting https://kmdevantagens.com.br/categoria/33...\n",
      "Scraping https://kmdevantagens.com.br/categoria/33...\n",
      "Visiting https://kmdevantagens.com.br/privacidade-protecao-dados...\n",
      "Scraping https://kmdevantagens.com.br/privacidade-protecao-dados...\n",
      "Visiting https://kmdevantagens.com.br/categoria/125...\n",
      "Scraping https://kmdevantagens.com.br/categoria/125...\n",
      "Visiting https://kmdevantagens.com.br/ganhe-km...\n",
      "Scraping https://kmdevantagens.com.br/ganhe-km...\n",
      "Visiting https://kmdevantagens.com.br/categoria/129...\n",
      "Scraping https://kmdevantagens.com.br/categoria/129...\n",
      "Visiting https://kmdevantagens.com.br/categoria/138...\n",
      "Scraping https://kmdevantagens.com.br/categoria/138...\n",
      "Visiting https://kmdevantagens.com.br/categoria/143...\n",
      "Scraping https://kmdevantagens.com.br/categoria/143...\n",
      "Visiting https://kmdevantagens.com.br/categoria/142...\n",
      "Scraping https://kmdevantagens.com.br/categoria/142...\n",
      "Visiting https://kmdevantagens.com.br/categoria/111...\n",
      "Scraping https://kmdevantagens.com.br/categoria/111...\n",
      "Visiting https://kmdevantagens.com.br/categoria/139...\n",
      "Scraping https://kmdevantagens.com.br/categoria/139...\n",
      "Visiting https://kmdevantagens.com.br/categoria/17...\n",
      "Scraping https://kmdevantagens.com.br/categoria/17...\n",
      "Visiting https://kmdevantagens.com.br/categoria/2...\n",
      "Scraping https://kmdevantagens.com.br/categoria/2...\n",
      "Visiting https://kmdevantagens.com.br/abastece-ai...\n",
      "Scraping https://kmdevantagens.com.br/abastece-ai...\n",
      "Visiting https://kmdevantagens.com.br/ajuda...\n",
      "Scraping https://kmdevantagens.com.br/ajuda...\n",
      "Visiting https://kmdevantagens.com.br/categoria/140...\n",
      "Scraping https://kmdevantagens.com.br/categoria/140...\n",
      "Visiting https://kmdevantagens.com.br/caminhoneiro...\n",
      "Scraping https://kmdevantagens.com.br/caminhoneiro...\n",
      "Visiting https://kmdevantagens.com.br/como-funciona...\n",
      "Scraping https://kmdevantagens.com.br/como-funciona...\n",
      "Visiting https://kmdevantagens.com.br/categoria/146...\n",
      "Scraping https://kmdevantagens.com.br/categoria/146...\n",
      "Visiting https://kmdevantagens.com.br/categoria/11...\n",
      "Scraping https://kmdevantagens.com.br/categoria/11...\n",
      "Visiting https://kmdevantagens.com.br/...\n",
      "Scraping https://kmdevantagens.com.br/...\n",
      "Visiting https://kmdevantagens.com.br/privacidade-protecao-dados...\n",
      "Scraping https://kmdevantagens.com.br/privacidade-protecao-dados...\n",
      "Visiting https://kmdevantagens.com.br/regulamento...\n",
      "Scraping https://kmdevantagens.com.br/regulamento...\n",
      "Visiting https://kmdevantagens.com.br/fale-conosco...\n",
      "Scraping https://kmdevantagens.com.br/fale-conosco...\n",
      "Visiting https://kmdevantagens.com.br/categoria/144...\n",
      "Scraping https://kmdevantagens.com.br/categoria/144...\n",
      "Visiting https://kmdevantagens.com.br/privacidade...\n",
      "Scraping https://kmdevantagens.com.br/privacidade...\n",
      "Visiting https://kmdevantagens.com.br/categoria/141...\n",
      "Scraping https://kmdevantagens.com.br/categoria/141...\n",
      "Visiting https://kmdevantagens.com.br/promocoes...\n",
      "Scraping https://kmdevantagens.com.br/promocoes...\n",
      "Visiting https://kmdevantagens.com.br/categoria/10...\n",
      "Scraping https://kmdevantagens.com.br/categoria/10...\n",
      "Visiting https://kmdevantagens.com.br/categorias...\n",
      "Scraping https://kmdevantagens.com.br/categorias...\n",
      "Visiting https://kmdevantagens.com.br/institucional...\n",
      "Scraping https://kmdevantagens.com.br/institucional...\n",
      "Visiting https://kmdevantagens.com.br/categoria/33...\n",
      "Scraping https://kmdevantagens.com.br/categoria/33...\n",
      "Visiting https://kmdevantagens.com.br/privacidade-protecao-dados...\n",
      "Scraping https://kmdevantagens.com.br/privacidade-protecao-dados...\n",
      "Visiting https://kmdevantagens.com.br/categoria/125...\n",
      "Scraping https://kmdevantagens.com.br/categoria/125...\n",
      "Visiting https://kmdevantagens.com.br/ganhe-km...\n",
      "Scraping https://kmdevantagens.com.br/ganhe-km...\n",
      "Visiting https://kmdevantagens.com.br/categoria/129...\n",
      "Scraping https://kmdevantagens.com.br/categoria/129...\n",
      "Visiting https://kmdevantagens.com.br/categoria/138...\n",
      "Scraping https://kmdevantagens.com.br/categoria/138...\n",
      "Visiting https://kmdevantagens.com.br/categoria/143...\n",
      "Scraping https://kmdevantagens.com.br/categoria/143...\n",
      "Visiting https://kmdevantagens.com.br/categoria/142...\n",
      "Scraping https://kmdevantagens.com.br/categoria/142...\n",
      "Visiting https://kmdevantagens.com.br/categoria/111...\n",
      "Scraping https://kmdevantagens.com.br/categoria/111...\n",
      "Visiting https://kmdevantagens.com.br/categoria/139...\n",
      "Scraping https://kmdevantagens.com.br/categoria/139...\n",
      "Visiting https://kmdevantagens.com.br/categoria/17...\n",
      "Scraping https://kmdevantagens.com.br/categoria/17...\n",
      "Visiting https://kmdevantagens.com.br/categoria/2...\n",
      "Scraping https://kmdevantagens.com.br/categoria/2...\n",
      "Visiting https://kmdevantagens.com.br/ajuda...\n",
      "Scraping https://kmdevantagens.com.br/ajuda...\n",
      "Visiting https://kmdevantagens.com.br/como-funciona...\n",
      "Scraping https://kmdevantagens.com.br/como-funciona...\n",
      "Visiting https://kmdevantagens.com.br/...\n",
      "Scraping https://kmdevantagens.com.br/...\n",
      "Visiting https://kmdevantagens.com.br/regulamento...\n",
      "Scraping https://kmdevantagens.com.br/regulamento...\n",
      "Visiting https://kmdevantagens.com.br/fale-conosco...\n",
      "Scraping https://kmdevantagens.com.br/fale-conosco...\n",
      "Web scraping completed. Data saved to 'data_LC.txt'.\n",
      "Downloading PDFs...\n",
      "Downloaded 00383e35-50fc-4ed2-bf4f-f5f6715d5d9e.pdf\n",
      "All PDFs downloaded.\n"
     ]
    }
   ],
   "source": [
    "def is_allowed(url, rp):\n",
    "    return rp.can_fetch(\"*\", url)\n",
    "\n",
    "def get_all_links(url, base_url, pdf_links, rp):\n",
    "    try:\n",
    "        if not is_allowed(url, rp):\n",
    "            print(f\"Skipping {url} due to robots.txt\")\n",
    "            return set()\n",
    "        \n",
    "        response = requests.get(url, headers={'User-Agent': 'MyWebScraper'}, timeout=10)\n",
    "        if response.status_code != 200:\n",
    "            return set()\n",
    "        \n",
    "        soup = BeautifulSoup(response.text, 'html.parser')\n",
    "        links = set()\n",
    "        \n",
    "        for a_tag in soup.find_all('a', href=True):\n",
    "            link = a_tag['href']\n",
    "            full_url = urljoin(base_url, link)\n",
    "            \n",
    "            if full_url.endswith('.pdf'):\n",
    "                pdf_links.add(full_url)\n",
    "            \n",
    "            if full_url.startswith(base_url):  \n",
    "                links.add(full_url)\n",
    "        \n",
    "        return links\n",
    "    except requests.exceptions.RequestException as e:\n",
    "        print(f\"An error occurred while making a request: {e}\")\n",
    "        return set()\n",
    "\n",
    "def get_visible_text_from_url(url, rp):\n",
    "    try:\n",
    "        if not is_allowed(url, rp):\n",
    "            print(f\"Skipping {url} due to robots.txt\")\n",
    "            return None\n",
    "        \n",
    "        response = requests.get(url, headers={'User-Agent': 'MyWebScraper'}, timeout=10)\n",
    "        if response.status_code != 200 or 'text/html' not in response.headers['Content-Type']:\n",
    "            return None\n",
    "        \n",
    "        soup = BeautifulSoup(response.text, 'html.parser')\n",
    "        for script in soup(['script', 'style']):\n",
    "            script.extract()\n",
    "        texts = soup.stripped_strings\n",
    "        return \" \".join(texts)\n",
    "    except requests.exceptions.RequestException as e:\n",
    "        print(f\"An error occurred while making a request: {e}\")\n",
    "        return None\n",
    "\n",
    "def download_pdfs(pdf_links):\n",
    "    if not os.path.exists('pdfs'):\n",
    "        os.makedirs('pdfs')\n",
    "    \n",
    "    for pdf_url in pdf_links:\n",
    "        try:\n",
    "            response = requests.get(pdf_url, headers={'User-Agent': 'MyWebScraper'}, timeout=10)\n",
    "            pdf_name = pdf_url.split('/')[-1]\n",
    "            with open(f'pdfs/{pdf_name}', 'wb') as f:\n",
    "                f.write(response.content)\n",
    "            print(f\"Downloaded {pdf_name}\")\n",
    "        except requests.exceptions.RequestException as e:\n",
    "            print(f\"Failed to download {pdf_url}: {e}\")\n",
    "\n",
    "def main():\n",
    "    base_url = \"https://kmdevantagens.com.br/\"\n",
    "    rp = RobotFileParser()\n",
    "    rp.set_url(urljoin(base_url, \"robots.txt\"))\n",
    "    rp.read()\n",
    "    \n",
    "    all_links = set()\n",
    "    pdf_links = set()\n",
    "    to_visit = {base_url}\n",
    "    \n",
    "    with open(\"./data/doc_modules.txt\", \"w\", encoding=\"utf-8\") as f:\n",
    "        while to_visit:\n",
    "            current_url = to_visit.pop()\n",
    "            print(f\"Visiting {current_url}...\")\n",
    "            \n",
    "            if current_url not in all_links:\n",
    "                all_links.add(current_url)\n",
    "                links = get_all_links(current_url, base_url, pdf_links, rp)\n",
    "                to_visit.update(links)\n",
    "            \n",
    "            print(f\"Scraping {current_url}...\")\n",
    "            text = get_visible_text_from_url(current_url, rp)\n",
    "            if text:\n",
    "                f.write(f\"Data from {current_url}:\\n\")\n",
    "                f.write(text)\n",
    "                f.write(\"\\n\\n\")\n",
    "            \n",
    "            time.sleep(1)  # Delay to avoid overloading the server\n",
    "                \n",
    "    print(\"Web scraping completed. Data saved to 'data_LC.txt'.\")\n",
    "    \n",
    "    print(\"Downloading PDFs...\")\n",
    "    download_pdfs(pdf_links)\n",
    "    print(\"All PDFs downloaded.\")\n",
    "\n",
    "if __name__ == \"__main__\":\n",
    "    main()"
   ]
  },
  {
   "cell_type": "code",
   "execution_count": 7,
   "metadata": {},
   "outputs": [],
   "source": [
    "load_dotenv()"
   ]
  },
  {
   "cell_type": "code",
   "execution_count": 33,
   "metadata": {},
   "outputs": [],
   "source": [
    "key = os.getenv(\"EDENAI_API_KEY\")"
   ]
  },
  {
   "cell_type": "code",
   "execution_count": 34,
   "metadata": {},
   "outputs": [],
   "source": [
    "embeddings = EdenAiEmbeddings(provider=\"openai\", edenai_api_key=key)"
   ]
  },
  {
   "cell_type": "code",
   "execution_count": 13,
   "metadata": {},
   "outputs": [],
   "source": [
    "with open (\"./data/doc_modules.txt\", \"r\", encoding='utf-8') as arquivo:\n",
    "    content = arquivo.read()\n",
    "    content = [content]"
   ]
  },
  {
   "cell_type": "code",
   "execution_count": 18,
   "metadata": {},
   "outputs": [
    {
     "data": {
      "text/plain": [
       "<langchain_community.document_loaders.directory.DirectoryLoader at 0x2436c6edb20>"
      ]
     },
     "execution_count": 18,
     "metadata": {},
     "output_type": "execute_result"
    }
   ],
   "source": [
    "loader_txt = DirectoryLoader('data/', glob=\"**/*.txt\")\n",
    "loader_txt"
   ]
  },
  {
   "cell_type": "code",
   "execution_count": 20,
   "metadata": {},
   "outputs": [],
   "source": [
    "docs = loader_txt.load()"
   ]
  },
  {
   "cell_type": "code",
   "execution_count": 21,
   "metadata": {},
   "outputs": [],
   "source": [
    "text_splitter = RecursiveCharacterTextSplitter(chunk_size = 2000, chunk_overlap = 100)\n",
    "splitData = text_splitter.split_documents(docs)"
   ]
  },
  {
   "cell_type": "code",
   "execution_count": 26,
   "metadata": {},
   "outputs": [
    {
     "name": "stdout",
     "output_type": "stream",
     "text": [
      "<class 'list'>\n"
     ]
    }
   ],
   "source": [
    "print(type(splitData))"
   ]
  },
  {
   "cell_type": "code",
   "execution_count": 38,
   "metadata": {},
   "outputs": [],
   "source": [
    "persist_directory = 'kmv_embedding'\n",
    "colletion_vector_coopercitrus = 'kmv_collection'"
   ]
  },
  {
   "cell_type": "code",
   "execution_count": 41,
   "metadata": {},
   "outputs": [
    {
     "data": {
      "text/plain": [
       "<langchain_community.vectorstores.chroma.Chroma at 0x2430b514e90>"
      ]
     },
     "execution_count": 41,
     "metadata": {},
     "output_type": "execute_result"
    }
   ],
   "source": [
    "db = Chroma.from_documents(splitData, \n",
    "                           embeddings,\n",
    "                           persist_directory=persist_directory,\n",
    "                           collection_name=colletion_vector_coopercitrus\n",
    "                           )\n",
    "db"
   ]
  },
  {
   "cell_type": "code",
   "execution_count": 42,
   "metadata": {},
   "outputs": [
    {
     "name": "stderr",
     "output_type": "stream",
     "text": [
      "c:\\Users\\BlueShift\\Desktop\\projetos\\teste_kmv\\venv\\Lib\\site-packages\\langchain_core\\_api\\deprecation.py:139: LangChainDeprecationWarning: Since Chroma 0.4.x the manual persistence method is no longer supported as docs are automatically persisted.\n",
      "  warn_deprecated(\n"
     ]
    }
   ],
   "source": [
    "db.persist()"
   ]
  },
  {
   "cell_type": "code",
   "execution_count": 43,
   "metadata": {},
   "outputs": [
    {
     "data": {
      "text/plain": [
       "[Document(page_content='Data from https://kmdevantagens.com.br/categoria/140: Serviços Financeiros | Km de Vantagens Troque pontos KMV Ganhe pontos KMV Como funciona APP KMV Promoções Caminhoneiro Todas as Categorias / Serviços Financeiros Serviços Financeiros TROQUE SEUS PONTOS KMV POR SERVIÇOS EXCLUSIVOS! CONFIRA TODAS AS CATEGORIAS Mycon Mycon e KMV, o consórcio digital com a menor taxa do Brasil. 0 pontos KMV RESGATAR VOUCHER Sorte Online Aproveite 30% de desconto na Sorte Online 100 pontos KMV RESGATAR VOUCHER Sorte Online Troque pontos KMV por 50% de desconto na Quina de São João! 100 pontos KMV RESGATAR VOUCHER Simule como ganhar pontos KMV Como funciona Fale conosco Ajuda Proteção de Dados Pessoais Regulamento Institucional © 2024 - KMV, programa de fidelidade dos postos Ipiranga. Uma empresa do Grupo Ultra. Avenida Brigadeiro Luis Antonio, nº 1343, 2º andar, ala A - São Paulo, SP - 01317-001 Qual é a sua dúvida? Vamos conversar sobre isso!', metadata={'source': 'data\\\\doc_modules.txt'}),\n",
       " Document(page_content='Data from https://kmdevantagens.com.br/categoria/140: Serviços Financeiros | Km de Vantagens Troque pontos KMV Ganhe pontos KMV Como funciona APP KMV Promoções Caminhoneiro Todas as Categorias / Serviços Financeiros Serviços Financeiros TROQUE SEUS PONTOS KMV POR SERVIÇOS EXCLUSIVOS! CONFIRA TODAS AS CATEGORIAS Mycon Mycon e KMV, o consórcio digital com a menor taxa do Brasil. 0 pontos KMV RESGATAR VOUCHER Sorte Online Aproveite 30% de desconto na Sorte Online 100 pontos KMV RESGATAR VOUCHER Sorte Online Troque pontos KMV por 50% de desconto na Quina de São João! 100 pontos KMV RESGATAR VOUCHER Simule como ganhar pontos KMV Como funciona Fale conosco Ajuda Proteção de Dados Pessoais Regulamento Institucional © 2024 - KMV, programa de fidelidade dos postos Ipiranga. Uma empresa do Grupo Ultra. Avenida Brigadeiro Luis Antonio, nº 1343, 2º andar, ala A - São Paulo, SP - 01317-001 Qual é a sua dúvida? Vamos conversar sobre isso!', metadata={'source': 'data\\\\doc_modules.txt'}),\n",
       " Document(page_content='O que é o novo KMV? Publicação: 21/03/2024 O KMV é o programa de fidelidade dos postos Ipiranga. Com ele, a cada R$ 1,00 gasto em produtos ou serviços na rede credenciada de postos Ipiranga ou nos sites de parceiros, você acumula pontos KMV que te dão acesso a cashback, promoções e benefícios exclusivos em mais de 70 parceiros. Como faço para baixar o app KMV? Publicação: 27/03/2024 É fácil. Basta acessar a loja de aplicativos do seu celular e procurar por KMV. Já tinha o app abastece-aí instalado no meu celular. O que muda pra mim? Publicação: 27/03/2024 Todos os seus benefícios continuam! Com o KMV, você acumula pontos e ganha cashback em seus abastecimentos nos postos Ipiranga. Apenas o nome e visual do app mudaram. Vou perder meu saldo de Km de Vantagens? Publicação: 27/03/2024 Não. O abastece-aí agora é KMV e seu saldo acumulado continua válido para trocar por cashback, descontos e benefícios. Vou perder meu cashback? Publicação: 27/03/2024 Não. A mudança de visual não influencia no seu saldo de cashback. Como faço para acumular pontos pelo novo app do KMV? Publicação: 27/03/2024 É só abastecer nos postos Ipiranga participantes, fazer compras nas lojas AmPm e em lojas parceiras, ou até mesmo recarregar seu celular no app para ganhar pontos KMV. Posso usar o cashback adquirido no KMV em qualquer posto de combustível? Publicação: 27/03/2024 O cashback adquirido no KMV só pode ser utilizado nos postos da bandeira Ipiranga e que participam do programa de fidelidade.', metadata={'source': 'data\\\\doc_modules.txt'}),\n",
       " Document(page_content='Data from https://kmdevantagens.com.br/ajuda: Ajuda | Km de Vantagens Troque pontos KMV Ganhe pontos KMV Como funciona APP KMV Promoções Caminhoneiro Início / Ajuda Ajuda Dúvidas mais frequentes O que é o programa KMV? Publicação: 24/09/2023 O KMV é programa de fidelidade dos postos Ipiranga. Com ele, a cada R$ 1,00 gasto em produtos ou serviços na rede credenciada de postos Ipiranga ou nos sites de parceiros, você acumula pontos KMV que te dão acesso a promoções e benefícios exclusivos. O programa KMV está presente em todos os postos da rede Ipiranga? Publicação: 24/09/2023 O KMV está presente nos postos Ipiranga credenciados. Para encontrar o mais próximo de você, acesse o Portal Ipiranga ( https://bit.ly/36nrLhN) Quem pode participar do KMV? Publicação: 24/09/2023 Qualquer pessoa que informe seu CPF no ato da compra de produtos ou serviços na Rede Ipiranga ou nos sites parceiros do KMV pode participar do programa. Como posso participar do KMV? Publicação: 24/09/2023 Participar do KMV é muito fácil. É só baixar o app KMV e se cadastrar. Para acumular pontos KMV é só informar seu CPF cadastrado quando consumir qualquer produto ou serviço em um posto Ipiranga credenciado ao programa ou em um dos nossos parceiros. Como cancelar meu cadastro ? Publicação: 24/09/2023 Para cancelar o seu cadastro, siga instruções abaixo: 1. Na tela inicial do app KMV, clique no ícone localizado no canto superior esquerdo; 2. Deslize até o final da página e selecione \"Encerramento de conta\". 3.', metadata={'source': 'data\\\\doc_modules.txt'}),\n",
       " Document(page_content='Data from https://kmdevantagens.com.br/ajuda: Ajuda | Km de Vantagens Troque pontos KMV Ganhe pontos KMV Como funciona APP KMV Promoções Caminhoneiro Início / Ajuda Ajuda Dúvidas mais frequentes O que é o programa KMV? Publicação: 24/09/2023 O KMV é programa de fidelidade dos postos Ipiranga. Com ele, a cada R$ 1,00 gasto em produtos ou serviços na rede credenciada de postos Ipiranga ou nos sites de parceiros, você acumula pontos KMV que te dão acesso a promoções e benefícios exclusivos. O programa KMV está presente em todos os postos da rede Ipiranga? Publicação: 24/09/2023 O KMV está presente nos postos Ipiranga credenciados. Para encontrar o mais próximo de você, acesse o Portal Ipiranga ( https://bit.ly/36nrLhN) Quem pode participar do KMV? Publicação: 24/09/2023 Qualquer pessoa que informe seu CPF no ato da compra de produtos ou serviços na Rede Ipiranga ou nos sites parceiros do KMV pode participar do programa. Como posso participar do KMV? Publicação: 24/09/2023 Participar do KMV é muito fácil. É só baixar o app KMV e se cadastrar. Para acumular pontos KMV é só informar seu CPF cadastrado quando consumir qualquer produto ou serviço em um posto Ipiranga credenciado ao programa ou em um dos nossos parceiros. Como cancelar meu cadastro ? Publicação: 24/09/2023 Para cancelar o seu cadastro, siga instruções abaixo: 1. Na tela inicial do app KMV, clique no ícone localizado no canto superior esquerdo; 2. Deslize até o final da página e selecione \"Encerramento de conta\". 3.', metadata={'source': 'data\\\\doc_modules.txt'})]"
      ]
     },
     "execution_count": 43,
     "metadata": {},
     "output_type": "execute_result"
    }
   ],
   "source": [
    "question = \"o que é o kmv?\"\n",
    "v = db.similarity_search(query=question, k=5)\n",
    "v"
   ]
  },
  {
   "cell_type": "code",
   "execution_count": null,
   "metadata": {},
   "outputs": [],
   "source": []
  }
 ],
 "metadata": {
  "kernelspec": {
   "display_name": "venv",
   "language": "python",
   "name": "python3"
  },
  "language_info": {
   "codemirror_mode": {
    "name": "ipython",
    "version": 3
   },
   "file_extension": ".py",
   "mimetype": "text/x-python",
   "name": "python",
   "nbconvert_exporter": "python",
   "pygments_lexer": "ipython3",
   "version": "3.12.4"
  }
 },
 "nbformat": 4,
 "nbformat_minor": 2
}
