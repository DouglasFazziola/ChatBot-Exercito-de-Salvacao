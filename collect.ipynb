{
 "cells": [
  {
   "cell_type": "code",
   "execution_count": 2,
   "metadata": {},
   "outputs": [],
   "source": [
    "import requests\n",
    "import time\n",
    "import os\n",
    "from bs4 import BeautifulSoup\n",
    "from urllib.parse import urljoin\n",
    "from urllib.robotparser import RobotFileParser\n",
    "from langchain_community.embeddings.edenai import EdenAiEmbeddings\n",
    "from dotenv import load_dotenv\n",
    "from langchain.text_splitter import RecursiveCharacterTextSplitter\n",
    "from langchain.document_loaders import DirectoryLoader\n",
    "from langchain.vectorstores import Chroma"
   ]
  },
  {
   "cell_type": "code",
   "execution_count": 6,
   "metadata": {},
   "outputs": [
    {
     "name": "stdout",
     "output_type": "stream",
     "text": [
      "Visiting https://kmdevantagens.com.br/...\n",
      "Scraping https://kmdevantagens.com.br/...\n",
      "Visiting https://kmdevantagens.com.br/ganhe-km...\n",
      "Scraping https://kmdevantagens.com.br/ganhe-km...\n",
      "Visiting https://kmdevantagens.com.br/regulamento...\n",
      "Scraping https://kmdevantagens.com.br/regulamento...\n",
      "Visiting https://kmdevantagens.com.br/fale-conosco...\n",
      "Scraping https://kmdevantagens.com.br/fale-conosco...\n",
      "Visiting https://kmdevantagens.com.br/promocoes...\n",
      "Scraping https://kmdevantagens.com.br/promocoes...\n",
      "Visiting https://kmdevantagens.com.br/abastece-ai...\n",
      "Scraping https://kmdevantagens.com.br/abastece-ai...\n",
      "Visiting https://kmdevantagens.com.br/categorias...\n",
      "Scraping https://kmdevantagens.com.br/categorias...\n",
      "Visiting https://kmdevantagens.com.br/ajuda...\n",
      "Scraping https://kmdevantagens.com.br/ajuda...\n",
      "Visiting https://kmdevantagens.com.br/institucional...\n",
      "Scraping https://kmdevantagens.com.br/institucional...\n",
      "Visiting https://kmdevantagens.com.br/categoria/140...\n",
      "Scraping https://kmdevantagens.com.br/categoria/140...\n",
      "Visiting https://kmdevantagens.com.br/caminhoneiro...\n",
      "Scraping https://kmdevantagens.com.br/caminhoneiro...\n",
      "Visiting https://kmdevantagens.com.br/como-funciona...\n",
      "Scraping https://kmdevantagens.com.br/como-funciona...\n",
      "Visiting https://kmdevantagens.com.br/categoria/146...\n",
      "Scraping https://kmdevantagens.com.br/categoria/146...\n",
      "Visiting https://kmdevantagens.com.br/...\n",
      "Scraping https://kmdevantagens.com.br/...\n",
      "Visiting https://kmdevantagens.com.br/categoria/11...\n",
      "Scraping https://kmdevantagens.com.br/categoria/11...\n",
      "Visiting https://kmdevantagens.com.br/#perguntas-frequentes...\n",
      "Scraping https://kmdevantagens.com.br/#perguntas-frequentes...\n",
      "Visiting https://kmdevantagens.com.br/regulamento...\n",
      "Scraping https://kmdevantagens.com.br/regulamento...\n",
      "Visiting https://kmdevantagens.com.br/fale-conosco...\n",
      "Scraping https://kmdevantagens.com.br/fale-conosco...\n",
      "Visiting https://kmdevantagens.com.br/categoria/144...\n",
      "Scraping https://kmdevantagens.com.br/categoria/144...\n",
      "Visiting https://kmdevantagens.com.br/categoria/141...\n",
      "Scraping https://kmdevantagens.com.br/categoria/141...\n",
      "Visiting https://kmdevantagens.com.br/promocoes...\n",
      "Scraping https://kmdevantagens.com.br/promocoes...\n",
      "Visiting https://kmdevantagens.com.br/categoria/10...\n",
      "Scraping https://kmdevantagens.com.br/categoria/10...\n",
      "Visiting https://kmdevantagens.com.br/categorias...\n",
      "Scraping https://kmdevantagens.com.br/categorias...\n",
      "Visiting https://kmdevantagens.com.br/institucional...\n",
      "Scraping https://kmdevantagens.com.br/institucional...\n",
      "Visiting https://kmdevantagens.com.br/categoria/33...\n",
      "Scraping https://kmdevantagens.com.br/categoria/33...\n",
      "Visiting https://kmdevantagens.com.br/privacidade-protecao-dados...\n",
      "Scraping https://kmdevantagens.com.br/privacidade-protecao-dados...\n",
      "Visiting https://kmdevantagens.com.br/categoria/125...\n",
      "Scraping https://kmdevantagens.com.br/categoria/125...\n",
      "Visiting https://kmdevantagens.com.br/ganhe-km...\n",
      "Scraping https://kmdevantagens.com.br/ganhe-km...\n",
      "Visiting https://kmdevantagens.com.br/categoria/129...\n",
      "Scraping https://kmdevantagens.com.br/categoria/129...\n",
      "Visiting https://kmdevantagens.com.br/categoria/138...\n",
      "Scraping https://kmdevantagens.com.br/categoria/138...\n",
      "Visiting https://kmdevantagens.com.br/categoria/143...\n",
      "Scraping https://kmdevantagens.com.br/categoria/143...\n",
      "Visiting https://kmdevantagens.com.br/categoria/142...\n",
      "Scraping https://kmdevantagens.com.br/categoria/142...\n",
      "Visiting https://kmdevantagens.com.br/categoria/111...\n",
      "Scraping https://kmdevantagens.com.br/categoria/111...\n",
      "Visiting https://kmdevantagens.com.br/categoria/139...\n",
      "Scraping https://kmdevantagens.com.br/categoria/139...\n",
      "Visiting https://kmdevantagens.com.br/categoria/17...\n",
      "Scraping https://kmdevantagens.com.br/categoria/17...\n",
      "Visiting https://kmdevantagens.com.br/categoria/2...\n",
      "Scraping https://kmdevantagens.com.br/categoria/2...\n",
      "Visiting https://kmdevantagens.com.br/abastece-ai...\n",
      "Scraping https://kmdevantagens.com.br/abastece-ai...\n",
      "Visiting https://kmdevantagens.com.br/ajuda...\n",
      "Scraping https://kmdevantagens.com.br/ajuda...\n",
      "Visiting https://kmdevantagens.com.br/categoria/140...\n",
      "Scraping https://kmdevantagens.com.br/categoria/140...\n",
      "Visiting https://kmdevantagens.com.br/caminhoneiro...\n",
      "Scraping https://kmdevantagens.com.br/caminhoneiro...\n",
      "Visiting https://kmdevantagens.com.br/como-funciona...\n",
      "Scraping https://kmdevantagens.com.br/como-funciona...\n",
      "Visiting https://kmdevantagens.com.br/categoria/146...\n",
      "Scraping https://kmdevantagens.com.br/categoria/146...\n",
      "Visiting https://kmdevantagens.com.br/categoria/11...\n",
      "Scraping https://kmdevantagens.com.br/categoria/11...\n",
      "Visiting https://kmdevantagens.com.br/...\n",
      "Scraping https://kmdevantagens.com.br/...\n",
      "Visiting https://kmdevantagens.com.br/privacidade-protecao-dados...\n",
      "Scraping https://kmdevantagens.com.br/privacidade-protecao-dados...\n",
      "Visiting https://kmdevantagens.com.br/regulamento...\n",
      "Scraping https://kmdevantagens.com.br/regulamento...\n",
      "Visiting https://kmdevantagens.com.br/fale-conosco...\n",
      "Scraping https://kmdevantagens.com.br/fale-conosco...\n",
      "Visiting https://kmdevantagens.com.br/categoria/144...\n",
      "Scraping https://kmdevantagens.com.br/categoria/144...\n",
      "Visiting https://kmdevantagens.com.br/privacidade...\n",
      "Scraping https://kmdevantagens.com.br/privacidade...\n",
      "Visiting https://kmdevantagens.com.br/categoria/141...\n",
      "Scraping https://kmdevantagens.com.br/categoria/141...\n",
      "Visiting https://kmdevantagens.com.br/promocoes...\n",
      "Scraping https://kmdevantagens.com.br/promocoes...\n",
      "Visiting https://kmdevantagens.com.br/categoria/10...\n",
      "Scraping https://kmdevantagens.com.br/categoria/10...\n",
      "Visiting https://kmdevantagens.com.br/categorias...\n",
      "Scraping https://kmdevantagens.com.br/categorias...\n",
      "Visiting https://kmdevantagens.com.br/institucional...\n",
      "Scraping https://kmdevantagens.com.br/institucional...\n",
      "Visiting https://kmdevantagens.com.br/categoria/33...\n",
      "Scraping https://kmdevantagens.com.br/categoria/33...\n",
      "Visiting https://kmdevantagens.com.br/privacidade-protecao-dados...\n",
      "Scraping https://kmdevantagens.com.br/privacidade-protecao-dados...\n",
      "Visiting https://kmdevantagens.com.br/categoria/125...\n",
      "Scraping https://kmdevantagens.com.br/categoria/125...\n",
      "Visiting https://kmdevantagens.com.br/ganhe-km...\n",
      "Scraping https://kmdevantagens.com.br/ganhe-km...\n",
      "Visiting https://kmdevantagens.com.br/categoria/129...\n",
      "Scraping https://kmdevantagens.com.br/categoria/129...\n",
      "Visiting https://kmdevantagens.com.br/categoria/138...\n",
      "Scraping https://kmdevantagens.com.br/categoria/138...\n",
      "Visiting https://kmdevantagens.com.br/categoria/143...\n",
      "Scraping https://kmdevantagens.com.br/categoria/143...\n",
      "Visiting https://kmdevantagens.com.br/categoria/142...\n",
      "Scraping https://kmdevantagens.com.br/categoria/142...\n",
      "Visiting https://kmdevantagens.com.br/categoria/111...\n",
      "Scraping https://kmdevantagens.com.br/categoria/111...\n",
      "Visiting https://kmdevantagens.com.br/categoria/139...\n",
      "Scraping https://kmdevantagens.com.br/categoria/139...\n",
      "Visiting https://kmdevantagens.com.br/categoria/17...\n",
      "Scraping https://kmdevantagens.com.br/categoria/17...\n",
      "Visiting https://kmdevantagens.com.br/categoria/2...\n",
      "Scraping https://kmdevantagens.com.br/categoria/2...\n",
      "Visiting https://kmdevantagens.com.br/ajuda...\n",
      "Scraping https://kmdevantagens.com.br/ajuda...\n",
      "Visiting https://kmdevantagens.com.br/como-funciona...\n",
      "Scraping https://kmdevantagens.com.br/como-funciona...\n",
      "Visiting https://kmdevantagens.com.br/...\n",
      "Scraping https://kmdevantagens.com.br/...\n",
      "Visiting https://kmdevantagens.com.br/regulamento...\n",
      "Scraping https://kmdevantagens.com.br/regulamento...\n",
      "Visiting https://kmdevantagens.com.br/fale-conosco...\n",
      "Scraping https://kmdevantagens.com.br/fale-conosco...\n",
      "Web scraping completed. Data saved to 'data_LC.txt'.\n",
      "Downloading PDFs...\n",
      "Downloaded 00383e35-50fc-4ed2-bf4f-f5f6715d5d9e.pdf\n",
      "All PDFs downloaded.\n"
     ]
    }
   ],
   "source": [
    "def is_allowed(url, rp):\n",
    "    return rp.can_fetch(\"*\", url)\n",
    "\n",
    "def get_all_links(url, base_url, pdf_links, rp):\n",
    "    try:\n",
    "        if not is_allowed(url, rp):\n",
    "            print(f\"Skipping {url} due to robots.txt\")\n",
    "            return set()\n",
    "        \n",
    "        response = requests.get(url, headers={'User-Agent': 'MyWebScraper'}, timeout=10)\n",
    "        if response.status_code != 200:\n",
    "            return set()\n",
    "        \n",
    "        soup = BeautifulSoup(response.text, 'html.parser')\n",
    "        links = set()\n",
    "        \n",
    "        for a_tag in soup.find_all('a', href=True):\n",
    "            link = a_tag['href']\n",
    "            full_url = urljoin(base_url, link)\n",
    "            \n",
    "            if full_url.endswith('.pdf'):\n",
    "                pdf_links.add(full_url)\n",
    "            \n",
    "            if full_url.startswith(base_url):  \n",
    "                links.add(full_url)\n",
    "        \n",
    "        return links\n",
    "    except requests.exceptions.RequestException as e:\n",
    "        print(f\"An error occurred while making a request: {e}\")\n",
    "        return set()\n",
    "\n",
    "def get_visible_text_from_url(url, rp):\n",
    "    try:\n",
    "        if not is_allowed(url, rp):\n",
    "            print(f\"Skipping {url} due to robots.txt\")\n",
    "            return None\n",
    "        \n",
    "        response = requests.get(url, headers={'User-Agent': 'MyWebScraper'}, timeout=10)\n",
    "        if response.status_code != 200 or 'text/html' not in response.headers['Content-Type']:\n",
    "            return None\n",
    "        \n",
    "        soup = BeautifulSoup(response.text, 'html.parser')\n",
    "        for script in soup(['script', 'style']):\n",
    "            script.extract()\n",
    "        texts = soup.stripped_strings\n",
    "        return \" \".join(texts)\n",
    "    except requests.exceptions.RequestException as e:\n",
    "        print(f\"An error occurred while making a request: {e}\")\n",
    "        return None\n",
    "\n",
    "def download_pdfs(pdf_links):\n",
    "    if not os.path.exists('pdfs'):\n",
    "        os.makedirs('pdfs')\n",
    "    \n",
    "    for pdf_url in pdf_links:\n",
    "        try:\n",
    "            response = requests.get(pdf_url, headers={'User-Agent': 'MyWebScraper'}, timeout=10)\n",
    "            pdf_name = pdf_url.split('/')[-1]\n",
    "            with open(f'pdfs/{pdf_name}', 'wb') as f:\n",
    "                f.write(response.content)\n",
    "            print(f\"Downloaded {pdf_name}\")\n",
    "        except requests.exceptions.RequestException as e:\n",
    "            print(f\"Failed to download {pdf_url}: {e}\")\n",
    "\n",
    "def main():\n",
    "    base_url = \"https://www.exercitodesalvacao.org.br/\"\n",
    "    rp = RobotFileParser()\n",
    "    rp.set_url(urljoin(base_url, \"robots.txt\"))\n",
    "    rp.read()\n",
    "    \n",
    "    all_links = set()\n",
    "    pdf_links = set()\n",
    "    to_visit = {base_url}\n",
    "    \n",
    "    with open(\"./data/doc_modules.txt\", \"w\", encoding=\"utf-8\") as f:\n",
    "        while to_visit:\n",
    "            current_url = to_visit.pop()\n",
    "            print(f\"Visiting {current_url}...\")\n",
    "            \n",
    "            if current_url not in all_links:\n",
    "                all_links.add(current_url)\n",
    "                links = get_all_links(current_url, base_url, pdf_links, rp)\n",
    "                to_visit.update(links)\n",
    "            \n",
    "            print(f\"Scraping {current_url}...\")\n",
    "            text = get_visible_text_from_url(current_url, rp)\n",
    "            if text:\n",
    "                f.write(f\"Data from {current_url}:\\n\")\n",
    "                f.write(text)\n",
    "                f.write(\"\\n\\n\")\n",
    "            \n",
    "            time.sleep(1)  # Delay to avoid overloading the server\n",
    "                \n",
    "    print(\"Web scraping completed. Data saved to 'data_LC.txt'.\")\n",
    "    \n",
    "    print(\"Downloading PDFs...\")\n",
    "    download_pdfs(pdf_links)\n",
    "    print(\"All PDFs downloaded.\")\n",
    "\n",
    "if __name__ == \"__main__\":\n",
    "    main()"
   ]
  },
  {
   "cell_type": "code",
   "execution_count": 3,
   "metadata": {},
   "outputs": [
    {
     "data": {
      "text/plain": [
       "True"
      ]
     },
     "execution_count": 3,
     "metadata": {},
     "output_type": "execute_result"
    }
   ],
   "source": [
    "load_dotenv()"
   ]
  },
  {
   "cell_type": "code",
   "execution_count": 4,
   "metadata": {},
   "outputs": [],
   "source": [
    "key = os.getenv(\"EDENAI_API_KEY\")"
   ]
  },
  {
   "cell_type": "code",
   "execution_count": 5,
   "metadata": {},
   "outputs": [],
   "source": [
    "embeddings = EdenAiEmbeddings(provider=\"openai\", edenai_api_key=key)"
   ]
  },
  {
   "cell_type": "code",
   "execution_count": 6,
   "metadata": {},
   "outputs": [
    {
     "data": {
      "text/plain": [
       "<langchain_community.document_loaders.directory.DirectoryLoader at 0x26dabd40cb0>"
      ]
     },
     "execution_count": 6,
     "metadata": {},
     "output_type": "execute_result"
    }
   ],
   "source": [
    "loader_txt = DirectoryLoader('data/', glob=\"**/*.txt\")\n",
    "loader_txt"
   ]
  },
  {
   "cell_type": "code",
   "execution_count": 7,
   "metadata": {},
   "outputs": [],
   "source": [
    "docs = loader_txt.load()"
   ]
  },
  {
   "cell_type": "code",
   "execution_count": 8,
   "metadata": {},
   "outputs": [],
   "source": [
    "text_splitter = RecursiveCharacterTextSplitter(chunk_size = 2000, chunk_overlap = 100)\n",
    "splitData = text_splitter.split_documents(docs)"
   ]
  },
  {
   "cell_type": "code",
   "execution_count": 9,
   "metadata": {},
   "outputs": [],
   "source": [
    "persist_directory = 'exercito_embedding_2'\n",
    "colletion_vector_exercito = 'exercito_collection_2'"
   ]
  },
  {
   "cell_type": "code",
   "execution_count": 10,
   "metadata": {},
   "outputs": [
    {
     "data": {
      "text/plain": [
       "<langchain_community.vectorstores.chroma.Chroma at 0x26db23f1790>"
      ]
     },
     "execution_count": 10,
     "metadata": {},
     "output_type": "execute_result"
    }
   ],
   "source": [
    "db = Chroma.from_documents(splitData, \n",
    "                           embeddings,\n",
    "                           persist_directory=persist_directory,\n",
    "                           collection_name=colletion_vector_exercito\n",
    "                           )\n",
    "db"
   ]
  },
  {
   "cell_type": "code",
   "execution_count": 11,
   "metadata": {},
   "outputs": [
    {
     "name": "stderr",
     "output_type": "stream",
     "text": [
      "c:\\Users\\BlueShift\\Desktop\\projetos\\Projeto Exercito de Salvação\\venv\\Lib\\site-packages\\langchain_core\\_api\\deprecation.py:139: LangChainDeprecationWarning: Since Chroma 0.4.x the manual persistence method is no longer supported as docs are automatically persisted.\n",
      "  warn_deprecated(\n"
     ]
    }
   ],
   "source": [
    "db.persist()"
   ]
  },
  {
   "cell_type": "code",
   "execution_count": 12,
   "metadata": {},
   "outputs": [
    {
     "data": {
      "text/plain": [
       "[Document(page_content='# DIVISÃO REGIONAL RIO DE JANEIRO, MINAS GERAIS, DISTRITO FEDERAL E RORAIMA\\n\\nRio de Janeiro: Escritório Regional: Rua José do Patrocínio, nº 240 – Ed. César Bordalho – Apto. 201 Bairro Grajaú Rio de Janeiro - RJ Cep: 20560-160 Tel: (21) 2186-8442\\n\\nOficiais Responsáveis:\\n\\nMajor Ricardo Iung\\n\\nMajor Cindy Meylan Iung\\n\\nIgrejas:\\n\\nBANGU\\n\\nRJ\\n\\nRua Cel. Tamarindo, 576\\n\\nBangu\\n\\nRio de Janeiro\\n\\nRJ | 21870\\n\\n002\\n\\nTel: (21) 3331\\n\\n5721\\n\\nCAMPOS - RJ Rua Cap. Júlio Nogueira, 39 - Jd. Carioca Campos dos Goytacazes - RJ | 28080-470 Tel: (22) 2722-2722\\n\\nGUARUS - RJ Rua Operário João de Barros, 169 - Parque Prazeres Campos dos Goytacazes - RJ | 28080-095 Tel: (22) 2738-9305\\n\\nMÉIER\\n\\nRJ\\n\\nRua Getúlio, 432\\n\\nTodos os Santos\\n\\nRio de Janeiro\\n\\nRJ | 20775\\n\\n001\\n\\nTel: (21) 3549\\n\\n7692 / (21) 96426\\n\\n4610 (cel)\\n\\nAVANÇADA MORRO AGUDO\\n\\nRua Santa Rosa, 200\\n\\nComendador Soares\\n\\nNova Iguaçu\\n\\nRJ | 26277\\n\\n345\\n\\nTel: (21) 2032\\n\\n2672\\n\\nNITERÓI - RJ Rua Visconde de Itaboraí, 357 - Centro Niterói - RJ | 24030-094 Tel: (21) 2620-1702\\n\\nAVANÇADA PARQUE AURORA\\n\\nRJ\\n\\nRua São João, 486\\n\\nParque Aurora\\n\\nCampos dos Goytacazes\\n\\nRJ | 28026\\n\\n230\\n\\nRIO COMPRIDO\\n\\nRJ\\n\\nRua Santa Alexandrina, 147\\n\\nRio Comprido\\n\\nRio de Janeiro\\n\\nRJ | 20261\\n\\n235\\n\\nTel: (21) 3253\\n\\n6906\\n\\nSÃO GONÇALO - RJ Rua Rodrigues da Fonseca, 317 - Zé Garoto São Gonçalo - RJ | 24440-110 Tel: (21) 3857-7773\\n\\nSANTA CRUZ\\n\\nRJ\\n\\nAv. Antares, 2545\\n\\nSanta Cruz\\n\\nRio de Janeiro\\n\\nRJ | 23590\\n\\n012\\n\\nUnidades Sociais:\\n\\nPROJETO INTEGRAÇÃO E CENTRO COMUNITÁRIO NOVA DIVINÉIA Rua Bambuí, 36 - Grajaú Rio de Janeiro - RJ | 20561-210 Tel: (21) 2298-2574\\n\\nCENTRO SÓCIO EDUCATIVO LAR DO MÉIER Rua Garcia Redondo, 103 - Cachambi Rio de Janeiro - RJ | 20775-170 Tel: (21) 2595-5694\\n\\nMinas Gerais:\\n\\nIgrejas:\\n\\nPRIMEIRO DE MAIO\\n\\nMG\\n\\nRua Maravilhas, 25\\n\\nProvidência\\n\\nBelo Horizonte\\n\\nMG | 31814\\n\\n040\\n\\nTel: (31) 3433\\n\\n3563\\n\\nAVANÇADA DE ARCO VERDE\\n\\nMG\\n\\nFazenda Arco Verde\\n\\nRua Antônio Pires, 1790\\n\\nCampo de Santana\\n\\nPrudente de Moraes\\n\\nMG | 35738\\n\\n000\\n\\nTel: (31) 3711\\n\\n1370\\n\\nUnidades Sociais:', metadata={'source': 'data\\\\data.txt'}),\n",
       " Document(page_content='MISSÃO E VISÃO UNIDADES SOCIAIS ONDE ESTAMOS Últimas Notícias \"Nosso trabalho não pode parar\", ajuda ao RS continua Campanha \"Cabide da Salvação\" ganha um leão de Cannes Refugiar-se por melhores condições de vida NOSSOS NÚMEROS * * Informações relacionadas ao ano de 2023 11.396 Atendimentos a pessoas em situação de rua 2.154 Atendimentos a adolescentes grávidas e jovens mães ou pais 808 Atendimentos a pessoas inseridas no Programa de Economia Solidária 3.653 Atendimentos a imigrantes e refugiados 25.174 Atendimentos no Programa de Apoio à Família 1.345 Pessoas foram alcançadas em campanhas contra o tráfico de pessoas/ violência contra crianças e adolescentes 310.145 Atendimentos a crianças e adolescentes. * * Serviço de Convivência e Fortalecimento de Vínculos (SCFV) 165.869 Atendimentos a crianças em Centro de Educação Infantil 1.231 Atendimentos a idosos Nossos Parceiros To play, press and hold the enter key. To stop, release the enter key. Rua Juá, nº 264 - Bosque da Saúde - São Paulo - SP - Cep: 04138-020 Informações sobre agendamento de doações: 4003 2299 Informações sobre demais assuntos: (11) 5591 7074 (não atende aos fins de semana) © 2024 - Assistência e Promoção Social Exército de Salvação. Política de Cookies | Política de Privacidade bottom of page', metadata={'source': 'data\\\\doc_modules.txt'})]"
      ]
     },
     "execution_count": 12,
     "metadata": {},
     "output_type": "execute_result"
    }
   ],
   "source": [
    "question = \"Tem alguma unidade no RJ?\"\n",
    "v = db.similarity_search(query=question, k=2)\n",
    "v"
   ]
  },
  {
   "cell_type": "code",
   "execution_count": null,
   "metadata": {},
   "outputs": [],
   "source": []
  }
 ],
 "metadata": {
  "kernelspec": {
   "display_name": "venv",
   "language": "python",
   "name": "python3"
  },
  "language_info": {
   "codemirror_mode": {
    "name": "ipython",
    "version": 3
   },
   "file_extension": ".py",
   "mimetype": "text/x-python",
   "name": "python",
   "nbconvert_exporter": "python",
   "pygments_lexer": "ipython3",
   "version": "3.12.4"
  }
 },
 "nbformat": 4,
 "nbformat_minor": 2
}
